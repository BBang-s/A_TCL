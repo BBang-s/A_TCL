{
 "cells": [
  {
   "cell_type": "code",
   "execution_count": null,
   "metadata": {},
   "outputs": [],
   "source": [
    "from selenium import webdriver\n",
    "\n",
    "driver = webdriver.Chrome('./Documents/ATCL/chromedriver')\n",
    "driver.get(\"http://www.google.com\")"
   ]
  },
  {
   "cell_type": "code",
   "execution_count": null,
   "metadata": {},
   "outputs": [],
   "source": [
    "##날씨 데이터 저장\n",
    "\n",
    "def crawl_weather() :\n",
    "    \n",
    "    weather_data_10 = pd.DataFrame(columns=['현재일기_10','현재기온_10','체감온도_10','일강수_10'])\n",
    "    browser = webdriver.Chrome('./Documents/ATCL/chromedriver')\n",
    "    url = 'http://www.weather.go.kr/weather/observation/currentweather.jsp?auto_man=m&type=t99&reg=184&tm=2019.10.25.16%3A00&x=19&y=7'\n",
    "    browser.get(url)\n",
    "\n",
    "    for i in range(0,46):\n",
    "        i+=1\n",
    "\n",
    "        elem=browser.find_element_by_id('observation_text')\n",
    "        elem.clear()\n",
    "        elem.send_keys(\"2019.9.{}.10:00\".format(i))\n",
    "\n",
    "        btn=browser.find_elements_by_class_name('btn')\n",
    "        btn[2].click()\n",
    "        \n",
    "        time.sleep(1)\n",
    "        weathers = browser.find_elements_by_css_selector('td')\n",
    "        weather_data_10 = weather_data_10.append(pd.DataFrame([[weathers[40].text,weathers[44].text, weathers[46].text, weathers[47].text]],columns=['현재일기_10','현재기온_10','체감온도_10','일강수_10']))\n",
    "        \n",
    "            \n",
    "    print('success !')\n",
    "    browser.close()\n",
    "    \n",
    "    return weather_data_10"
   ]
  },
  {
   "cell_type": "code",
   "execution_count": null,
   "metadata": {},
   "outputs": [],
   "source": [
    "weather_data = crawl_weather()"
   ]
  }
 ],
 "metadata": {
  "kernelspec": {
   "display_name": "Python 3",
   "language": "python",
   "name": "python3"
  },
  "language_info": {
   "codemirror_mode": {
    "name": "ipython",
    "version": 3
   },
   "file_extension": ".py",
   "mimetype": "text/x-python",
   "name": "python",
   "nbconvert_exporter": "python",
   "pygments_lexer": "ipython3",
   "version": "3.7.4"
  }
 },
 "nbformat": 4,
 "nbformat_minor": 2
}
